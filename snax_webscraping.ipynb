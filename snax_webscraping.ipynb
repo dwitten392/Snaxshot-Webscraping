{
 "cells": [
  {
   "cell_type": "code",
   "execution_count": 1,
   "id": "ed6de6eb",
   "metadata": {},
   "outputs": [
    {
     "data": {
      "text/html": [
       "<style>.container { width:85% !important; }</style>"
      ],
      "text/plain": [
       "<IPython.core.display.HTML object>"
      ]
     },
     "metadata": {},
     "output_type": "display_data"
    }
   ],
   "source": [
    "#change display for the notebook\n",
    "from IPython.core.display import display, HTML\n",
    "display(HTML(\"<style>.container { width:85% !important; }</style>\"))"
   ]
  },
  {
   "cell_type": "code",
   "execution_count": 1,
   "id": "37940e34",
   "metadata": {},
   "outputs": [],
   "source": [
    "import requests\n",
    "import newspaper\n",
    "from newspaper import Article\n",
    "from newspaper import Source\n",
    "import pandas as pd\n",
    "import nltk\n",
    "import numpy as np"
   ]
  },
  {
   "cell_type": "markdown",
   "id": "ddc48e97",
   "metadata": {},
   "source": [
    "## Getting All Articles"
   ]
  },
  {
   "cell_type": "code",
   "execution_count": 2,
   "id": "4c086f34",
   "metadata": {},
   "outputs": [],
   "source": [
    "all_links = pd.read_excel('all articles.xlsx', header = None)"
   ]
  },
  {
   "cell_type": "code",
   "execution_count": 3,
   "id": "107dd350",
   "metadata": {},
   "outputs": [],
   "source": [
    "all_links.columns = ['links']"
   ]
  },
  {
   "cell_type": "code",
   "execution_count": 4,
   "id": "98c4744a",
   "metadata": {},
   "outputs": [
    {
     "data": {
      "text/html": [
       "<div>\n",
       "<style scoped>\n",
       "    .dataframe tbody tr th:only-of-type {\n",
       "        vertical-align: middle;\n",
       "    }\n",
       "\n",
       "    .dataframe tbody tr th {\n",
       "        vertical-align: top;\n",
       "    }\n",
       "\n",
       "    .dataframe thead th {\n",
       "        text-align: right;\n",
       "    }\n",
       "</style>\n",
       "<table border=\"1\" class=\"dataframe\">\n",
       "  <thead>\n",
       "    <tr style=\"text-align: right;\">\n",
       "      <th></th>\n",
       "      <th>links</th>\n",
       "    </tr>\n",
       "  </thead>\n",
       "  <tbody>\n",
       "    <tr>\n",
       "      <th>271</th>\n",
       "      <td>https://www.snaxshot.com/p/half-a-billion-cred...</td>\n",
       "    </tr>\n",
       "    <tr>\n",
       "      <th>272</th>\n",
       "      <td>https://www.snaxshot.com/p/yassified-walmart</td>\n",
       "    </tr>\n",
       "    <tr>\n",
       "      <th>273</th>\n",
       "      <td>https://www.snaxshot.com/p/foxtrot-markets-com...</td>\n",
       "    </tr>\n",
       "    <tr>\n",
       "      <th>274</th>\n",
       "      <td>https://www.snaxshot.com/p/for-the-love-of-chains</td>\n",
       "    </tr>\n",
       "    <tr>\n",
       "      <th>275</th>\n",
       "      <td>https://www.snaxshot.com/p/mexican-erewhon</td>\n",
       "    </tr>\n",
       "  </tbody>\n",
       "</table>\n",
       "</div>"
      ],
      "text/plain": [
       "                                                 links\n",
       "271  https://www.snaxshot.com/p/half-a-billion-cred...\n",
       "272       https://www.snaxshot.com/p/yassified-walmart\n",
       "273  https://www.snaxshot.com/p/foxtrot-markets-com...\n",
       "274  https://www.snaxshot.com/p/for-the-love-of-chains\n",
       "275         https://www.snaxshot.com/p/mexican-erewhon"
      ]
     },
     "execution_count": 4,
     "metadata": {},
     "output_type": "execute_result"
    }
   ],
   "source": [
    "all_links.tail()"
   ]
  },
  {
   "cell_type": "code",
   "execution_count": 5,
   "id": "3e1c1b83",
   "metadata": {},
   "outputs": [],
   "source": [
    "article_links = all_links.loc[all_links.links.str.contains(r'snaxshot.com/p/') & ~all_links.links.str.contains(r'comments')]"
   ]
  },
  {
   "cell_type": "code",
   "execution_count": 6,
   "id": "fd01a4a2",
   "metadata": {},
   "outputs": [],
   "source": [
    "#we want to remove the first ever article as it doesn't really contain any content\n",
    "article_links = article_links.drop(index = 29)"
   ]
  },
  {
   "cell_type": "code",
   "execution_count": 7,
   "id": "600b5f29",
   "metadata": {},
   "outputs": [],
   "source": [
    "article_links.to_csv('art_links.csv', index = False)"
   ]
  },
  {
   "cell_type": "markdown",
   "id": "653c69f5",
   "metadata": {},
   "source": [
    "## Testing an Article with Newspaper"
   ]
  },
  {
   "cell_type": "code",
   "execution_count": 10,
   "id": "e7c3e3b7",
   "metadata": {},
   "outputs": [],
   "source": [
    "article_links = pd.read_csv('art_links.csv')"
   ]
  },
  {
   "cell_type": "code",
   "execution_count": 11,
   "id": "af0a4e86",
   "metadata": {},
   "outputs": [
    {
     "data": {
      "text/html": [
       "<div>\n",
       "<style scoped>\n",
       "    .dataframe tbody tr th:only-of-type {\n",
       "        vertical-align: middle;\n",
       "    }\n",
       "\n",
       "    .dataframe tbody tr th {\n",
       "        vertical-align: top;\n",
       "    }\n",
       "\n",
       "    .dataframe thead th {\n",
       "        text-align: right;\n",
       "    }\n",
       "</style>\n",
       "<table border=\"1\" class=\"dataframe\">\n",
       "  <thead>\n",
       "    <tr style=\"text-align: right;\">\n",
       "      <th></th>\n",
       "      <th>links</th>\n",
       "    </tr>\n",
       "  </thead>\n",
       "  <tbody>\n",
       "    <tr>\n",
       "      <th>0</th>\n",
       "      <td>https://www.snaxshot.com/p/aesthet-o-scope</td>\n",
       "    </tr>\n",
       "    <tr>\n",
       "      <th>1</th>\n",
       "      <td>https://www.snaxshot.com/p/brave-new-snax-world</td>\n",
       "    </tr>\n",
       "    <tr>\n",
       "      <th>2</th>\n",
       "      <td>https://www.snaxshot.com/p/coca-cola-stole-chr...</td>\n",
       "    </tr>\n",
       "    <tr>\n",
       "      <th>3</th>\n",
       "      <td>https://www.snaxshot.com/p/edible-celebrations</td>\n",
       "    </tr>\n",
       "    <tr>\n",
       "      <th>4</th>\n",
       "      <td>https://www.snaxshot.com/p/edible-cogitations</td>\n",
       "    </tr>\n",
       "    <tr>\n",
       "      <th>...</th>\n",
       "      <td>...</td>\n",
       "    </tr>\n",
       "    <tr>\n",
       "      <th>148</th>\n",
       "      <td>https://www.snaxshot.com/p/half-a-billion-cred...</td>\n",
       "    </tr>\n",
       "    <tr>\n",
       "      <th>149</th>\n",
       "      <td>https://www.snaxshot.com/p/yassified-walmart</td>\n",
       "    </tr>\n",
       "    <tr>\n",
       "      <th>150</th>\n",
       "      <td>https://www.snaxshot.com/p/foxtrot-markets-com...</td>\n",
       "    </tr>\n",
       "    <tr>\n",
       "      <th>151</th>\n",
       "      <td>https://www.snaxshot.com/p/for-the-love-of-chains</td>\n",
       "    </tr>\n",
       "    <tr>\n",
       "      <th>152</th>\n",
       "      <td>https://www.snaxshot.com/p/mexican-erewhon</td>\n",
       "    </tr>\n",
       "  </tbody>\n",
       "</table>\n",
       "<p>153 rows × 1 columns</p>\n",
       "</div>"
      ],
      "text/plain": [
       "                                                 links\n",
       "0           https://www.snaxshot.com/p/aesthet-o-scope\n",
       "1      https://www.snaxshot.com/p/brave-new-snax-world\n",
       "2    https://www.snaxshot.com/p/coca-cola-stole-chr...\n",
       "3       https://www.snaxshot.com/p/edible-celebrations\n",
       "4        https://www.snaxshot.com/p/edible-cogitations\n",
       "..                                                 ...\n",
       "148  https://www.snaxshot.com/p/half-a-billion-cred...\n",
       "149       https://www.snaxshot.com/p/yassified-walmart\n",
       "150  https://www.snaxshot.com/p/foxtrot-markets-com...\n",
       "151  https://www.snaxshot.com/p/for-the-love-of-chains\n",
       "152         https://www.snaxshot.com/p/mexican-erewhon\n",
       "\n",
       "[153 rows x 1 columns]"
      ]
     },
     "execution_count": 11,
     "metadata": {},
     "output_type": "execute_result"
    }
   ],
   "source": [
    "article_links"
   ]
  },
  {
   "cell_type": "code",
   "execution_count": 14,
   "id": "5d5688c7",
   "metadata": {},
   "outputs": [
    {
     "data": {
      "text/plain": [
       "'https://www.snaxshot.com/p/snax-grams'"
      ]
     },
     "execution_count": 14,
     "metadata": {},
     "output_type": "execute_result"
    }
   ],
   "source": [
    "article_links.links[29]"
   ]
  },
  {
   "cell_type": "code",
   "execution_count": 12,
   "id": "589745c5",
   "metadata": {},
   "outputs": [],
   "source": [
    "url = article_links.links[0]\n",
    "article = Article(url)"
   ]
  },
  {
   "cell_type": "code",
   "execution_count": 13,
   "id": "327fd700",
   "metadata": {},
   "outputs": [],
   "source": [
    "article.download()"
   ]
  },
  {
   "cell_type": "code",
   "execution_count": 14,
   "id": "ae9b8877",
   "metadata": {},
   "outputs": [],
   "source": [
    "article.parse()"
   ]
  },
  {
   "cell_type": "code",
   "execution_count": 15,
   "id": "619daa00",
   "metadata": {},
   "outputs": [
    {
     "data": {
      "text/plain": [
       "'A newsletter on upcoming food and beverage trends that offers a curation of brands and aesthetics written by Andrea Hernández.\\n\\nSnaxshot is ad-free as we are community funded, if you enjoy our content, contribute here . 🤗'"
      ]
     },
     "execution_count": 15,
     "metadata": {},
     "output_type": "execute_result"
    }
   ],
   "source": [
    "article.text"
   ]
  },
  {
   "cell_type": "code",
   "execution_count": 16,
   "id": "41cda1c3",
   "metadata": {},
   "outputs": [],
   "source": [
    "article.nlp()"
   ]
  },
  {
   "cell_type": "code",
   "execution_count": 17,
   "id": "8e23c9e5",
   "metadata": {},
   "outputs": [
    {
     "data": {
      "text/plain": [
       "['food',\n",
       " 'newsletter',\n",
       " 'hernándezsnaxshot',\n",
       " 'offers',\n",
       " 'written',\n",
       " 'upcoming',\n",
       " 'funded',\n",
       " 'trends',\n",
       " 'curation',\n",
       " 'enjoy',\n",
       " 'aesthetoscope']"
      ]
     },
     "execution_count": 17,
     "metadata": {},
     "output_type": "execute_result"
    }
   ],
   "source": [
    "article.keywords"
   ]
  },
  {
   "cell_type": "code",
   "execution_count": 18,
   "id": "1f9c1af3",
   "metadata": {},
   "outputs": [
    {
     "data": {
      "text/plain": [
       "'A newsletter on upcoming food and beverage trends that offers a curation of brands and aesthetics written by Andrea Hernández.\\nSnaxshot is ad-free as we are community funded, if you enjoy our content, contribute here .'"
      ]
     },
     "execution_count": 18,
     "metadata": {},
     "output_type": "execute_result"
    }
   ],
   "source": [
    "article.summary"
   ]
  },
  {
   "cell_type": "code",
   "execution_count": 19,
   "id": "e3242f4b",
   "metadata": {},
   "outputs": [
    {
     "data": {
      "text/plain": [
       "{'https://substackcdn.com/image/fetch/e_trim:10:white/e_trim:10:transparent/h_72,c_limit,f_auto,q_auto:good,fl_progressive:steep/https%3A%2F%2Fsubstack-post-media.s3.amazonaws.com%2Fpublic%2Fimages%2Fb798366c-f0e1-493d-837d-4e3c39b988d7_1920x1080.png',\n",
       " 'https://substackcdn.com/image/fetch/w_120,c_limit,f_auto,q_auto:good,fl_progressive:steep/https%3A%2F%2Fbucketeer-e05bbc84-baa3-437e-9518-adb32be77984.s3.amazonaws.com%2Fpublic%2Fimages%2F69587589-79cc-4c4b-aa88-0318d5d098e3_1920x1080.png',\n",
       " 'https://substackcdn.com/image/fetch/w_1200,h_600,c_fill,f_jpg,q_auto:good,fl_progressive:steep,g_auto/https%3A%2F%2Fbucketeer-e05bbc84-baa3-437e-9518-adb32be77984.s3.amazonaws.com%2Fpublic%2Fimages%2F69587589-79cc-4c4b-aa88-0318d5d098e3_1920x1080.png',\n",
       " 'https://substackcdn.com/image/fetch/w_1456,c_limit,f_auto,q_auto:good,fl_progressive:steep/https%3A%2F%2Fbucketeer-e05bbc84-baa3-437e-9518-adb32be77984.s3.amazonaws.com%2Fpublic%2Fimages%2F4abad2e0-3f7f-4f87-be50-5883fcb21ae7_1920x1080.png',\n",
       " 'https://substackcdn.com/image/fetch/w_80,c_limit,f_auto,q_auto:good,fl_progressive:steep/https%3A%2F%2Fbucketeer-e05bbc84-baa3-437e-9518-adb32be77984.s3.amazonaws.com%2Fpublic%2Fimages%2F9ee951ba-ba52-42d1-a18b-fe2c7a15bf6a_1125x1089.jpeg',\n",
       " 'https://substackcdn.com/image/fetch/w_96,c_limit,f_auto,q_auto:good,fl_progressive:steep/https%3A%2F%2Fbucketeer-e05bbc84-baa3-437e-9518-adb32be77984.s3.amazonaws.com%2Fpublic%2Fimages%2Fb31de296-ae2f-477c-b288-504b932aa40b_944x944.png'}"
      ]
     },
     "execution_count": 19,
     "metadata": {},
     "output_type": "execute_result"
    }
   ],
   "source": [
    "article.images"
   ]
  },
  {
   "cell_type": "code",
   "execution_count": 21,
   "id": "39f502e6",
   "metadata": {},
   "outputs": [],
   "source": [
    "from newspaper import fulltext\n",
    "\n",
    "html = requests.get(url).text\n",
    "text = fulltext(html)"
   ]
  },
  {
   "cell_type": "code",
   "execution_count": 22,
   "id": "e02155d1",
   "metadata": {
    "scrolled": true
   },
   "outputs": [
    {
     "data": {
      "text/plain": [
       "'A newsletter on upcoming food and beverage trends that offers a curation of brands and aesthetics written by Andrea Hernández.\\n\\nSnaxshot is ad-free as we are community funded, if you enjoy our content, contribute here . 🤗'"
      ]
     },
     "execution_count": 22,
     "metadata": {},
     "output_type": "execute_result"
    }
   ],
   "source": [
    "text"
   ]
  },
  {
   "cell_type": "markdown",
   "id": "8308c235",
   "metadata": {},
   "source": [
    "I wasn't able to get newspaper to bypass the log in and get the full article."
   ]
  },
  {
   "cell_type": "markdown",
   "id": "63fe3bbd",
   "metadata": {},
   "source": [
    "## Selenium Instead"
   ]
  },
  {
   "cell_type": "code",
   "execution_count": 8,
   "id": "7a832c61",
   "metadata": {},
   "outputs": [],
   "source": [
    "import time\n",
    "from selenium import webdriver\n",
    "from selenium.webdriver.chrome.options import Options\n",
    "from selenium.webdriver.common.by import By\n",
    "from selenium.webdriver.common.keys import Keys\n",
    "from selenium.webdriver.chrome.service import Service\n",
    "from webdriver_manager.chrome import ChromeDriverManager\n",
    "\n",
    "from bs4 import BeautifulSoup"
   ]
  },
  {
   "cell_type": "markdown",
   "id": "58056c5c",
   "metadata": {},
   "source": [
    "### Trying to Loop\n",
    "Headless didn't work in this case?"
   ]
  },
  {
   "cell_type": "code",
   "execution_count": 16,
   "id": "56a9e7ac",
   "metadata": {},
   "outputs": [],
   "source": [
    "#options = Options()\n",
    "#options.add_argument(\"--headless\")  # Run the browser in headless mode (without GUI)\n",
    "\n",
    "# Initialize the Chrome webdriver\n",
    "driver = webdriver.Chrome(ChromeDriverManager().install()) #options = options if you want non-default\n",
    "\n",
    "# Navigate to the login page\n",
    "login_url = r\"https://email.mg2.substack.com/c/redacted\"\n",
    "driver.get(login_url)\n",
    "\n",
    "time.sleep(2)\n",
    "\n",
    "# Find and click the button before entering the password\n",
    "#button = driver.find_element_by_class_name(\"login-option.substack-login__login-option\") # no longer necessary\n",
    "#button.click()\n",
    "\n",
    "# Give the browser some time to process the button click\n",
    "time.sleep(2)\n",
    "\n",
    "# Find the username and password input fields and enter your credentials\n",
    "#username_field = driver.find_element(By.NAME, \"email\")\n",
    "#password_field = driver.find_element(By.NAME, \"password\")\n",
    "\n",
    "#username_field.send_keys(username)\n",
    "#password_field.send_keys(password)\n",
    "\n",
    "# Submit the login form\n",
    "#password_field.send_keys(Keys.ENTER)\n",
    "\n",
    "# Give the browser some time to process the login request\n",
    "time.sleep(3)\n",
    "\n",
    "titles = []\n",
    "subtitles = []\n",
    "dates = []\n",
    "images = []\n",
    "whole_texts = []\n",
    "#start the loop of urls\n",
    "\n",
    "for i in range(len(article_links)):\n",
    "    driver.get(article_links.links[i])\n",
    "    \n",
    "    time.sleep(0.5)\n",
    "\n",
    "#Find element\n",
    "    title = driver.find_element(By.CLASS_NAME, \"post-title.unpublished\")\n",
    "    \n",
    "    sub = driver.find_element(By.CLASS_NAME, \"subtitle\")\n",
    "    \n",
    "    try: #tries one location\n",
    "        date = driver.find_element(By.XPATH, \"//*[@id='main']/div[2]/div/div[1]/div/article/div[2]/div/div[1]/div/div[2]/div[2]/div[1]\")\n",
    "    except: #tries another location if the first fails\n",
    "        date = driver.find_element(By.XPATH, \"//*[@id='main']/div[2]/div/div[1]/div/article/div[2]/div/div[1]/div/div/div/div[1]\")\n",
    "    \n",
    "    image = driver.find_elements_by_xpath(\"//a//img\")\n",
    "    imageNames = []\n",
    "    \n",
    "    for element in image:\n",
    "        imageNames.append(element.get_attribute(\"src\"))\n",
    "        \n",
    "    whole_text = driver.find_element_by_xpath(\"//*[@id='main']/div[2]/div/div[1]/div/article/div[4]/div[1]\")\n",
    "    \n",
    "    #creating the entry for the article\n",
    "    titles.append(title.text.strip())\n",
    "    subtitles.append(sub.text.strip())\n",
    "    dates.append(date.text.strip())\n",
    "    images.append(imageNames[2:-2])\n",
    "    whole_texts.append(whole_text.text.strip())"
   ]
  },
  {
   "cell_type": "code",
   "execution_count": 18,
   "id": "efd480ed",
   "metadata": {},
   "outputs": [
    {
     "data": {
      "text/plain": [
       "\"We’ve separated our “Spoonful of News” section to be available to those who have a free subscription. From now on all in-depth pieces are for our paid subscribers only.\\nNew Age Escapism—In efforts to decriminalize magic mushrooms, California Senate gave final approval to a bill legalizing certain psychedelics for people who are 21 or older.\\nIf Governor Newsom signs the bill, it would go into effect in 2025 and make it legal to possess or grow plant-based psychedelics, including psychedelic mushrooms.\\nIn Los Angeles, weed dispensaries have been openly selling magic mushroom products all throughout this year.\\nWe deep dived into the growing movement of psychedelic-adjacent snack and beverages, in the form of legal psychoactives like kava and kanna.\\nSnaxshot #40: Legal Psychedelics\\nSNAXSHOT\\n·\\nJANUARY 14, 2022\\n🤗 🔮 Peek into the future: Psilly rabbit, drug trips are just for INC.\\nRead full story\\nFresh off the news that Meati raised a $50M Series C extension—they are laying off 20% of their workforce and decommissioning their Boulder plant.\\nSweetgreen is being sued by former employees in NYC alleging sexual and racial discrimination.\\nThe 100+ year old cereal company that was Kellogg’s has made their split official— Kellanova (snacking co. with the worst name ever) and WK Kellogg Co, which will be based in Chicago.\\nBy 2010s, 80% of Kellogg’s sales revenue was coming from their growing snacking segment.\\nMeanwhile cereal sales had been on steady decline, up until pandemic, as consumer’s relationship to the once “breakfast staple” have changed. Check out our deep dive on this:\\nSnaxshot #06: Part of A Complete Breakfast\\nSNAXSHOT\\n·\\nNOVEMBER 5, 2020\\n🔮 Peek into the future: Is cereal breakfast still a staple?\\nRead full story\\nJoin over 1,500+ snaxers on our group chat!\\nChamberlain Coffee is betting on Gen Z’s need RTD coffee—and with good reason.\\nStarbucks' cold business made up 75% of US beverage sales\\nAttributed to GenZ is being into more cold brew and RTD\\nTheir latest RTD products are found in mass retailers like Walmart.\\nUpending of consumer brand dynamics is here—more brands are letting their customers dictate their next moves.\\nCommunity Packaged Goods: we predicted this shift in a deep dive exploring how brands like TYB are creating infrastructure to help brands empower their consumers and create more win-win structures.\\nSnaxshot#47: Community Packaged Goods\\nSNAXSHOT\\n·\\nAPRIL 19, 2022\\n🔮 Peek into the future: CPG now stands for community packaged goods\\nRead full story\\nThe opposite of Happy Hour—in the UK, pubs are embracing dynamic pricing when it comes to their beers, the busier the pub, the higher the cost of the pint.\\nSomething we are keeping our eye on—is creatine the new collagen? Dan Primack posted on how the supplement seems to be permeating its bro-culture grip.\\nIHeartMedia is joining Ryan Seacrest investing in Health-Ade kombucha\\nSeems super random considering how much kombucha has plateau in interest in comparison to fiber sodas. We wrote about it here:\\nSnaxshot #08: Follow Your Gut\\nSNAXSHOT\\n·\\nNOVEMBER 23, 2020\\n🔮 Peek into the future: Is this trend more than a gut feeling?\\nRead full story\\nFounded in 2012, they’ve raised around $50M across 5 rounds—which isn’t wild considering just how ubiquitous the brand has become in the span of a decade.\\nThink of this like an edible bookmark tab.\\nGrocerCore was in full effect at NYFW, hottest accessory is a bag full of produce, just ask Mansur Gavriel.\\nFermentation fetish is a thing—learn about Sandor Katz (SandorKraut) and his relationship with microbiomes.\\nOur friends at Rotten sour worm gummies are finally launching this month, keep your mouths open.\\nBathtubs in the kitchen aren’t as crazy once you learn why they came to be in the first place, it was just the biggest room for them at the time.\\nOur friends at Nour are launching a sumac serrano dressing that sounds insanely good!\\nThe vino bois at Good Boy Wine are at it again—if you’re in LA this weekend check out this bar within a bar concept by them!\\nOk, BYE\\nSnaxshot is a reader-supported publication. To receive new posts and support my work, consider becoming a free or paid subscriber.\\nSubscribed\\nSnax Concierge 🛎️\\n🔮 For daily snax curation and memes follow our X and IG.\\n🔮 Check out our Geneva for PROMO CODES of your favorites!\\n🔮 Share with your friends and let them know forecasting trends is the new astrology:\\nShare\\nSnaxshot is a reader-supported publication. To receive new posts and support my work, consider becoming a free or paid subscriber.\\nSubscribed\""
      ]
     },
     "execution_count": 18,
     "metadata": {},
     "output_type": "execute_result"
    }
   ],
   "source": [
    "whole_texts[100]"
   ]
  },
  {
   "cell_type": "markdown",
   "id": "4b2037ac",
   "metadata": {},
   "source": [
    "## Exporting Data Out"
   ]
  },
  {
   "cell_type": "code",
   "execution_count": 19,
   "id": "98f22c28",
   "metadata": {},
   "outputs": [],
   "source": [
    "df = pd.DataFrame(list(zip(titles, subtitles, dates, images, whole_texts)), columns =['title', 'subtitle', 'date', 'images', 'text'])"
   ]
  },
  {
   "cell_type": "code",
   "execution_count": 20,
   "id": "74ec61ac",
   "metadata": {},
   "outputs": [],
   "source": [
    "df.to_csv('full_snax_05-24.csv')"
   ]
  },
  {
   "cell_type": "code",
   "execution_count": null,
   "id": "a8535789",
   "metadata": {},
   "outputs": [],
   "source": []
  }
 ],
 "metadata": {
  "kernelspec": {
   "display_name": "Python 3",
   "language": "python",
   "name": "python3"
  },
  "language_info": {
   "codemirror_mode": {
    "name": "ipython",
    "version": 3
   },
   "file_extension": ".py",
   "mimetype": "text/x-python",
   "name": "python",
   "nbconvert_exporter": "python",
   "pygments_lexer": "ipython3",
   "version": "3.8.8"
  }
 },
 "nbformat": 4,
 "nbformat_minor": 5
}
