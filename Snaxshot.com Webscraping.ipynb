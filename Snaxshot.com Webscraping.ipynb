{
 "cells": [
  {
   "cell_type": "code",
   "execution_count": 2,
   "id": "ed6de6eb",
   "metadata": {},
   "outputs": [
    {
     "data": {
      "text/html": [
       "<style>.container { width:85% !important; }</style>"
      ],
      "text/plain": [
       "<IPython.core.display.HTML object>"
      ]
     },
     "metadata": {},
     "output_type": "display_data"
    }
   ],
   "source": [
    "#change display for the notebook\n",
    "from IPython.core.display import display, HTML\n",
    "display(HTML(\"<style>.container { width:85% !important; }</style>\"))"
   ]
  },
  {
   "cell_type": "markdown",
   "id": "ddc48e97",
   "metadata": {},
   "source": [
    "## Getting All Articles"
   ]
  },
  {
   "cell_type": "code",
   "execution_count": 24,
   "id": "4c086f34",
   "metadata": {},
   "outputs": [],
   "source": [
    "all_links = pd.read_excel('all articles.xlsx', header = None)"
   ]
  },
  {
   "cell_type": "code",
   "execution_count": 25,
   "id": "107dd350",
   "metadata": {},
   "outputs": [],
   "source": [
    "all_links.columns = ['links']"
   ]
  },
  {
   "cell_type": "code",
   "execution_count": 26,
   "id": "98c4744a",
   "metadata": {},
   "outputs": [
    {
     "data": {
      "text/html": [
       "<div>\n",
       "<style scoped>\n",
       "    .dataframe tbody tr th:only-of-type {\n",
       "        vertical-align: middle;\n",
       "    }\n",
       "\n",
       "    .dataframe tbody tr th {\n",
       "        vertical-align: top;\n",
       "    }\n",
       "\n",
       "    .dataframe thead th {\n",
       "        text-align: right;\n",
       "    }\n",
       "</style>\n",
       "<table border=\"1\" class=\"dataframe\">\n",
       "  <thead>\n",
       "    <tr style=\"text-align: right;\">\n",
       "      <th></th>\n",
       "      <th>links</th>\n",
       "    </tr>\n",
       "  </thead>\n",
       "  <tbody>\n",
       "    <tr>\n",
       "      <th>217</th>\n",
       "      <td>https://www.snaxshot.com/p/valentines-day-gift...</td>\n",
       "    </tr>\n",
       "    <tr>\n",
       "      <th>218</th>\n",
       "      <td>https://www.snaxshot.com/p/welcome-to-indoctri...</td>\n",
       "    </tr>\n",
       "    <tr>\n",
       "      <th>219</th>\n",
       "      <td>https://www.snaxshot.com/p/welcome-to-indoctri...</td>\n",
       "    </tr>\n",
       "    <tr>\n",
       "      <th>220</th>\n",
       "      <td>https://www.snaxshot.com/privacy?utm_source=</td>\n",
       "    </tr>\n",
       "    <tr>\n",
       "      <th>221</th>\n",
       "      <td>https://www.snaxshot.com/privacy?utm_source=us...</td>\n",
       "    </tr>\n",
       "  </tbody>\n",
       "</table>\n",
       "</div>"
      ],
      "text/plain": [
       "                                                 links\n",
       "217  https://www.snaxshot.com/p/valentines-day-gift...\n",
       "218  https://www.snaxshot.com/p/welcome-to-indoctri...\n",
       "219  https://www.snaxshot.com/p/welcome-to-indoctri...\n",
       "220       https://www.snaxshot.com/privacy?utm_source=\n",
       "221  https://www.snaxshot.com/privacy?utm_source=us..."
      ]
     },
     "execution_count": 26,
     "metadata": {},
     "output_type": "execute_result"
    }
   ],
   "source": [
    "all_links.tail()"
   ]
  },
  {
   "cell_type": "code",
   "execution_count": 27,
   "id": "3e1c1b83",
   "metadata": {},
   "outputs": [],
   "source": [
    "article_links = all_links.loc[all_links.links.str.contains(r'snaxshot.com/p/') & ~all_links.links.str.contains(r'comments')]"
   ]
  },
  {
   "cell_type": "code",
   "execution_count": 28,
   "id": "fd01a4a2",
   "metadata": {},
   "outputs": [],
   "source": [
    "#we want to remove the first ever article as it doesn't really contain any content\n",
    "article_links = article_links.drop(index = 29)"
   ]
  },
  {
   "cell_type": "code",
   "execution_count": 29,
   "id": "600b5f29",
   "metadata": {},
   "outputs": [],
   "source": [
    "article_links.to_csv('art_links.csv', index = False)"
   ]
  },
  {
   "cell_type": "markdown",
   "id": "63fe3bbd",
   "metadata": {},
   "source": [
    "## Selenium"
   ]
  },
  {
   "cell_type": "code",
   "execution_count": 44,
   "id": "7a832c61",
   "metadata": {},
   "outputs": [],
   "source": [
    "import time\n",
    "from selenium import webdriver\n",
    "from selenium.webdriver.chrome.options import Options\n",
    "from selenium.webdriver.common.by import By\n",
    "from selenium.webdriver.common.keys import Keys\n",
    "from selenium.webdriver.chrome.service import Service\n",
    "from webdriver_manager.chrome import ChromeDriverManager\n",
    "\n",
    "from bs4 import BeautifulSoup"
   ]
  },
  {
   "cell_type": "markdown",
   "id": "1be32dfc",
   "metadata": {},
   "source": [
    "### Testing a Single Element"
   ]
  },
  {
   "cell_type": "code",
   "execution_count": 52,
   "id": "fda2c096",
   "metadata": {},
   "outputs": [
    {
     "name": "stdout",
     "output_type": "stream",
     "text": [
      "Snaxshot is a newsletter on upcoming food and beverage trends that offers a curation of brands and aesthetics written by Andrea Hernández.\n",
      "Our newsletter is read by biggest executives in food and beverage companies in the world, don’t miss out upgrade your subscription today!\n",
      "Subscribed\n",
      "🔮 Peek into the future:\n",
      "Creating a Brave New Snax World\n",
      "Snax at SXSW—partnering with Foxtrot and Showdrop\n",
      "Snax at Museum of Ice Cream with Female Founder World\n",
      "Oracular spectacular—what’s actually new?\n",
      "Spoonful of news …open, fucking wide\n",
      "Generation SNAX\n",
      "Despite whatever other folks or publications may tout in their EXPO recaps that inundated LinkedIn this past week, there’s no functional beverage or palo santo brew that can help me recover from these past few weeks, not to mention the SVB fiasco that had me scrambling for an alternative bank account while heading out to Austin. Hope you missed me though—get those thumbs warmed up, they about to get a good cardio while scrolling through this issue….it’s a LONG one. Emerging out of our SnaxWest tour in LA and Austin to “trend reports” that talk about “plant-based everything” and “mushroom mania” as if this wasn’t obvious 3 years ago—but I digress, it seems that we have once again become content with having people regurgitate the obvious to us with mouths wide open like baby birds.\n",
      "Come gather 'round people, wherever you roam\n",
      "And admit that the functional waters have grown\n",
      "—Bob Dylan, former snaxboi\n",
      "And no you shall not find a recap like that here —we’ve stated our case last year that EXPO is indeed NOT the place to “spot” trends, imagine asking emerging brands already strapped for cash to drop $20k on a basic booth or having to shill $1.3k on tickets to…network? Last year we wrote in depth about this dynamic—despite it being three years since the pandemic broke out, and considering the current state of the economy, somehow things remain the same for emerging brands, expensive expos and booths as gatekeeping, while institutions profit enormously not only from attendees, but from data collected afterwards. Yet we are expected to continue this charade every year—without considering, how can things be better?\n",
      "Move over, yeah, don't do it over (yeah yeah yeah)\n",
      "'Cause it's over, yeah yeah yeah (don't do it over)\n",
      "Generation next\n",
      "—Move Over, Spice Girls\n",
      "Snaxshot’s only been around since 2020, but within every atom of our foundation, community and comraderie abound, the more we entrenched ourselves in the ins and outs of this space, the more we realized just how unfair the existing dynamics are for most emerging brands, and we’ve used our platform and limited resources to level the existing playing field for them. From hosting snax seances in New York, to cult indoctrinations in San Francisco, to hosting our first EXPO event last year, where we partnered with some incredible people to imagine what it would look like if we created a more accessible space for brands to showcase —the results where incredible, we had over 40 brands from around 5 countries, including many pre-launch goodies, where we brought community to support show up for each other.\n",
      "Though some VC backed brands noted that they’ve seen return of their Expo investments, which averages 20% of a brand’s annual revenue, that’s not the norm for the majority of food and beverage founders.\n",
      "In keeping this tradition, this year, I decided to take a chance in widening the vision by reaching out to friends like John Craven from BevNet and new found ones like Alex and Megan from HERE studio. Together we planned “Brave New Snax World” to make the case for a new kind of event—like an “un-conference” —this year we doubled the number of brands invited, we had brands as far as Singapore and Australia represented, as well as France, and Spain —we had founders join us from Mexico, Canada and UK, as well as 300 other snaxers! When community shows up for its own —the results are amazing, I’m incredibly thankful for all the brands who participated, for all the founders who showed up from far and near, to all the investors and retail partners who came to scout brands, and of course to our amazing hosts for donating their time, team and space, and to BevNet for sponsoring the night—thanks to all of the above, we were able to create an accessible, free and fun event for and by the community, I am merely an adhesive to help glue this all together.\n",
      "I have so much love for each and every one of you —this could be our future.\n",
      "Realsy team joined us in these incredible matching fits!\n",
      "Our amazing co-host, Alex from HERE studio and last year’s co-host, Michael Sharon from TAIKA.\n",
      "Canetta joined us all the way from France, as they made their debut in LA! Find them at Erewhon and Gjusta!\n",
      "Night was filled with many non-alcoholic drinks like our friends at PARCH.\n",
      "Wake up, kids, we got the dreamers disease\n",
      "—Get What You Give, The New Radicals\n",
      "Mark and pup joined us along with their tasty Dirtbag bars.\n",
      "Join over 1,000+ snaxers on our group chat!\n",
      "Dynamic duo that is chef Kat Turner and Becca Millstein from Fishwife.\n",
      "Eric debuted their New Orleans based beverage brand, Louie Louie.\n",
      "Grateful Elena and Avery from TBH graced us with the best snax combo.\n",
      "The amazing folks at HERE studio.\n",
      "From left to right: Daniel Solomons from Update, Adam Bent from Scout Canning, Nate and Thom from Adgile Media Group.\n",
      "Team Peepal People representing South Asian flavors.\n",
      "We featured the best in cannabis snax like the delicious TEMPO crackers.\n",
      "We got to try the latest from Recess, their latest zero-proof line.\n",
      "Canadians well represented, obsessed with Chris Reid’s Billion Trillion.\n",
      "Alex Doman from Avec drinks.\n",
      "Folks were able to sample our Snaxshot beverage made in collaboration with Yuzu Co.\n",
      "KIDDI WINKS was in the house debuting their amazing drinks.\n",
      "Part of the après sports movement, Courtside.\n",
      "We got to get an exclusive taste of Better Sour before their EXPO debut!\n",
      "You can never go wrong with YuzuCo.\n",
      "Spotted a Benny, pre-launch drink coming in from Canada.\n",
      "For those who don’t know Pattern Brand’s Emmett Shine was an OG Snaxshot supporter.\n",
      "JINX DRINX making their mark at our event.\n",
      "Want more greedy snaxboi? Follow us here!\n",
      "Get Golden bars all the way from New York City.\n",
      "We had the pleasure of getting the Nonny brothers to visit all the way from Vancouver, CA.\n",
      "Scout Canning debuted their latest snax at our event.\n",
      "PARO making its debut after a very successful launch!\n",
      "Loved to see NUFs part of our Austin community!\n",
      "PAMOS wowed everyone with their THC mocktails!\n",
      "Brutal visited all the way from Ecuador and made their debut with us pre-EXPO.\n",
      "The Absurd Snacks founders debuting a new look.\n",
      "Favorite Filipino-American founder, Celeste Perez from Droplet.\n",
      "Sunday’s joined us all the way from Canada, they are available at Foxtrot market and Pop Up Grocer.\n",
      "NGUYEN team crushing it at our party.\n",
      "Vina, from our wonderful hosts at HERE studio.\n",
      "Alma de Piedra, a maguey wine, BODY, low abv vodka and Three Spirit’s non-alcoholic wine.\n",
      "Fallen Grape’s tasty orange wine, Madre mezcal, Cardenxe sotol, and Veso aperitifs.\n",
      "Visiting all the way from England, PEAK who have continued to grow ever since we featured them back in 2021.\n",
      "Join over 1,000+ snaxers on our group chat!\n",
      "It was also great to have our retail friends like Gjusta and Monsoon Market in the house!\n",
      "Want more greedy snaxboi? Follow us here!\n",
      "Visiting from Bacerlona, ONIMA sauces.\n",
      "Repping ONIMA x Acid League, co-founder Cole Pearsall.\n",
      "Leisure bois were present mixing up their signature drink with Madre.\n",
      "Eric Bachman from Good Boy Wine, a staple in the LA community.\n",
      "Sophia Cheng, co-founder of Oddball, upcoming snax brand.\n",
      "Full house, full hearts.\n",
      "Snax @ SXSW\n",
      "For SXSW, we tapped into our deity/friends at Foxtrot market, who have recently opened their first of several locations in Austin, MAZEL! Literally a dream come true to host our community and indoctrinate more into Foxtrot with a cool activation thanks to Showdrop, a smart vending machine company, coincidentally also based in Chicago.\n",
      "We curated future forward snax brands for this particular occasion, from new brands like Update, Kiddi Winks, Leisure and Joggy, to innovative ones like Pzaz and KA! —the future of sampling looks something like this —expect a more in-depth piece on this as it was amazing to view this vision in action.\n",
      "Want more greedy snaxboi? Follow us here!\n",
      "No better place to secure pre-launch snax!\n",
      "Samples sold out daily!\n",
      "Join over 1,000+ snaxers on our group chat!\n",
      "So easy, Gen Alpha roasted us for it.\n",
      "Snax @ Museum of Ice Cream\n",
      "As many of you on here know, Anja Westhues is our first intern at Snax, Inc. She’s been an incredible add to the team, helping us host our first SnaxSwap last month, as well as this amazing takeover at the Museum of Ice Cream in NYC while we manned our event in LA! Thank you to Jasmine from Female Founder World for inviting us to collaborate for International Women’s Day, it was incredible to curate such a roster of female founded brands!\n",
      "Want more greedy snaxboi? Follow us here!\n",
      "It’s your favorite fucking day of the week, time for “Oracular Spectacular” part of Snax, INC Broadcast Television Network. Today’s episode is brought to you by the letter E, the color red and viewers like you.\n",
      "The oracle has returned from her yearly pilgrimage, what has she seen?! while paying tribute to our deities—many secrets have been uncovered …\n",
      "“What’s new?” —You fucking ask??!\n",
      "HEY CHAMP\n",
      "Still pre-launch, but we got to sample some in our SXSW activation, and let me tell you, this may be the IT snax of 2023.\n",
      "ZIMM ORGANICS\n",
      "“Pantry items want to be seen!” —this new olive oil.\n",
      "WEEKDAY VIBES\n",
      "Non-alcoholic sparkling rose?!\n",
      "VALET\n",
      "Part of our Brave New Snax World, hails all the way from Singapore!\n",
      "PUURO\n",
      "Part of our Brave New Snax World, pretty oat-of-this-world if you ask us!\n",
      "XXHEAT\n",
      "Give us all the cute condiments!\n",
      "NARRA\n",
      "Super stoked for the official launch of these, coming soon….\n",
      "GOOD DIRT\n",
      "Have heard great things of this Chaga cola…\n",
      "Join over 1,000+ snaxers on our group chat!\n",
      "Kellogg’s made the idiotic decision to go from Global Snacking Co. to Kellanova, sounds like a fast fashion line….\n",
      "Campbell’s is looking to find a premium sauce to scoop up, we’d love for it to be Monte’s but watch it be Carbone, lmao!\n",
      "Kroger is bullish on e-commerce boosting grocery, because you can’t unlearn convenience!\n",
      "Oatly is seeking to raise $300M to go on the offensive, as competition continues to grow.\n",
      "Dole is really trying to imitate RIND with their latest product offering.\n",
      "Sweetgreen is testing delivering your salads via drone—are the news a distraction from this WSJ piece a few weeks ago?\n",
      "Want more greedy snaxboi? Follow us here!\n",
      "Like we predicted back in 2021 —re: Lunchables and Gen Alpha’s snax paradox—what was once considered a “snack” has now become the full meal at US schools.\n",
      "Blank Street’s latest raise is complete, they’ve raised a total of $93M in the course of 3 years…\n",
      "FYI—Coca-Cola is still in the cocaine business.\n",
      "Our friends at Sanzo debut their six-packs at Whole Foods nationwide!\n",
      "Our friends at Joydays have launched at Central Market!\n",
      "Some EXPO content:\n",
      "Stoked for the Little Sesame x Fly by Jing collaboration!\n",
      "The Chamberlain Coffee lattes are gonna disrupt Starbucks.\n",
      "De la Calle’s incoming debut of their cócteles will be a hit.\n",
      "Ruby’s new flavors or another level of flavored hydration.\n",
      "Goodles is coming for Barilla’s jugular—but they might just miss…\n",
      "Fazenda Futuro is debuting a pretty cute alt-milk later this year.\n",
      "Snax Concierge 🛎️\n",
      "🔮 For daily snax curation and memes follow our Twitter\n",
      "🔮 Check out our Geneva for PROMO CODES of your favorites!\n",
      "🔮 Share with your friends and let them know forecasting trends is the new astrology:\n",
      "Share Snaxshot\n"
     ]
    }
   ],
   "source": [
    "# Initialize the Chrome webdriver\n",
    "driver = webdriver.Chrome(ChromeDriverManager().install())\n",
    "\n",
    "# Login credentials\n",
    "username = \"username\"\n",
    "password = \"password\"\n",
    "\n",
    "# Navigate to the login page\n",
    "login_url = r\"https://substack.com/sign-in?redirect=%2F&for_pub=snaxshot\"\n",
    "driver.get(login_url)\n",
    "\n",
    "# Find and click the button before entering the password\n",
    "button = driver.find_element_by_class_name(\"login-option\")\n",
    "button.click()\n",
    "\n",
    "# Give the browser some time to process the button click\n",
    "time.sleep(2)\n",
    "\n",
    "# Find the username and password input fields and enter your credentials\n",
    "username_field = driver.find_element(By.NAME, \"email\")\n",
    "password_field = driver.find_element(By.NAME, \"password\")\n",
    "\n",
    "username_field.send_keys(username)\n",
    "password_field.send_keys(password)\n",
    "\n",
    "# Submit the login form\n",
    "password_field.send_keys(Keys.ENTER)\n",
    "\n",
    "# Give the browser some time to process the login request\n",
    "time.sleep(3)\n",
    "\n",
    "protected_url = article_links.links[1]\n",
    "driver.get(protected_url)\n",
    "\n",
    "#Find element\n",
    "whole_text = driver.find_element_by_xpath(\"//*[@id='main']/div[2]/div/div[1]/div/article/div[4]/div[1]\")\n",
    "\n",
    "# Perform further processing or extraction as needed\n",
    "print(whole_text.text)\n"
   ]
  },
  {
   "cell_type": "markdown",
   "id": "58056c5c",
   "metadata": {},
   "source": [
    "### Looping to Extract Relevant Data"
   ]
  },
  {
   "cell_type": "code",
   "execution_count": 54,
   "id": "56a9e7ac",
   "metadata": {},
   "outputs": [],
   "source": [
    "# Initialize the Chrome webdriver\n",
    "driver = webdriver.Chrome(ChromeDriverManager().install()) #options = options if you want non-default\n",
    "\n",
    "# Login credentials\n",
    "username = \"username\"\n",
    "password = \"password\"\n",
    "\n",
    "# Navigate to the login page\n",
    "login_url = r\"https://substack.com/sign-in?redirect=%2F&for_pub=snaxshot\"\n",
    "driver.get(login_url)\n",
    "\n",
    "# Find and click the button before entering the password\n",
    "button = driver.find_element_by_class_name(\"login-option\")\n",
    "button.click()\n",
    "\n",
    "# Give the browser some time to process the button click\n",
    "time.sleep(2)\n",
    "\n",
    "# Find the username and password input fields and enter your credentials\n",
    "username_field = driver.find_element(By.NAME, \"email\")\n",
    "password_field = driver.find_element(By.NAME, \"password\")\n",
    "\n",
    "username_field.send_keys(username)\n",
    "password_field.send_keys(password)\n",
    "\n",
    "# Submit the login form\n",
    "password_field.send_keys(Keys.ENTER)\n",
    "\n",
    "# Give the browser some time to process the login request\n",
    "time.sleep(3)\n",
    "\n",
    "titles = []\n",
    "subtitles = []\n",
    "dates = []\n",
    "images = []\n",
    "whole_texts = []\n",
    "#start the loop of urls\n",
    "\n",
    "for i in range(len(article_links)):\n",
    "    driver.get(article_links.links[i])\n",
    "\n",
    "#Find element\n",
    "    title = driver.find_element(By.CLASS_NAME, \"post-title.unpublished\")\n",
    "    \n",
    "    sub = driver.find_element(By.CLASS_NAME, \"subtitle\")\n",
    "    \n",
    "    try: #tries one location\n",
    "        date = driver.find_element(By.XPATH, \"//*[@id='main']/div[2]/div/div[1]/div/article/div[2]/div/div[1]/div/div[2]/div[2]/div[1]\")\n",
    "    except: #tries another location if the first fails\n",
    "        date = driver.find_element(By.XPATH, \"//*[@id='main']/div[2]/div/div[1]/div/article/div[2]/div/div[1]/div/div/div/div[1]\")\n",
    "    \n",
    "    image = driver.find_elements_by_xpath(\"//a//img\")\n",
    "    imageNames = []\n",
    "    \n",
    "    for element in imageLinks:\n",
    "        imageNames.append(element.get_attribute(\"src\"))\n",
    "        \n",
    "    whole_text = driver.find_element_by_xpath(\"//*[@id='main']/div[2]/div/div[1]/div/article/div[4]/div[1]\")\n",
    "    \n",
    "    #creating the entry for the article\n",
    "    titles.append(title.text.strip())\n",
    "    subtitles.append(sub.text.strip())\n",
    "    dates.append(date.text.strip())\n",
    "    images.append(imageNames[2:-2])\n",
    "    whole_texts.append(whole_text.text.strip())"
   ]
  },
  {
   "cell_type": "code",
   "execution_count": 55,
   "id": "efd480ed",
   "metadata": {},
   "outputs": [
    {
     "data": {
      "text/plain": [
       "'A newsletter on upcoming food and beverage trends that offers a curation of brands and aesthetics written by Andrea Hernández.\\nSnaxshot is ad-free as we are community funded, if you enjoy our content, contribute here. 🤗\\n🔮 Peek into the future:\\nBeauty is in the eye of the snaxboi\\nOn origins of packaging\\nAndy Warhol’s CPG influence\\nRebrands as the new launch\\nAround the world in Pantry Kiths\\nOracular Spectacular and Trendspotting\\nSpoonful of News\\nCome on in, the water’s warm, you know you want to!\\nSubscribed\\nSitting Pretty, Oh So Pretty\\nIn defense of aestheticism, our brains literally crave beauty. Studies have shown that “beauty” literally triggers a part of our cerebellum that controls our hand movement, making us literally want to reach out for beautiful things. Beauty is in the eye of the beholder, and it involves everything from art, mates or that adaptogenic milk cardboard at your local curated grocer, it is no surprise then, to see the current state of F&B, where every item is seeking to either Trojan-horse us with pretty packaging, or undergoing upgrades to continue to appeal and be competitive in saturated markets, as we undergo an industry renaissance.\\nConsider that the last Renaissance saw the rise of food as a popular subject in in still life paintings, and at a time where we are still undergoing the affects of a pandemic, it comes to no surprise that relaxed renaissance is trending, as well as a rise in synaesthetic experiences and tablescapism post 2020. I’ve been documenting this behavior since SXS began, our cult literally revolves around worshipping sexy pantry items and sultry snack, consider our issue “Horny, horny people” and “American Snaxboi” wherein I trace back this new found love for “aesthetics” to being the Instagram generation, Millennials trying to find deeper connection with what nurtures them as well as trying to undo the “chaotic, punk” aesthetics most of them grew up with in the 90s.\\nOur parents used to not care about the “aesthetics” or the “vibe” of ketchup much more than the utility around it, nor did they carry around cereal boxes as a “fashion item” (something that’s gain popularity in South Korea) even if most of them grew up as yuppies, the vibe in F&B back then was so “anti” fluff and more utility based that Lacroix literally became a hit by positioning themselves as the “anti Perrier” —yet the children of this generation find themselves wanting to signal with their organic Dark Horse fermented ketchups displayed neatly on their bare kitchen shelves, posting it on tiny grids where we let others know, we are snaxbois who are in the “know” —but it didn’t happen all at once.\\nThe 2010s saw Millennials come of age, since then we’ve engaged in a perpetual discovery mode trying to find replacements for our food and beverage basics, that better fit our criteria and expectations. At first, the need was unfulfilled, this led to companies like Sir Kensington’s and Halo Top to become a threat to almost 100 year old, behemoth, legacy brands by catering to this demographic, that would a decade later become the largest consumer cohort. Documented this movement on “Seasoned Greetings” on the revolution in pantry items like condiments, olive oil and hot sauces, as well as in “Scoop there it is” and “What’s in your fridge?” unpacking the changes happening inside our freezers, whether it’s adaptogenic ice cream or cassava, plant based pizza bites.\\nWant to chat more snax?Join our Discord.\\nThe success of these companies led to an influx of venture money being poured into these companies, as competition grows, so does the need to stand out amongst a sea of sameness, not just with utility (fulfilling the actual need) but it became the norm for these companies to spend thousands if not hundreds of thousands in marketing, PR and design to produce trendy packaging that would appeal to Millennials and GenZ alike, wether it was capturing them through social ads, activations or generating hilarious UGC on TikTok. UGC (user generated content) runs a muck inside these platforms, our generations wanting to signal whether through a fridge shot or a shelfie, creating a hot item pays off amongst a generation who speaks aesthetics first, (hello influencers) food and beverage have officially become external signalers in the same way fashion items have, foodie culture and food porn also contributed to increase in packaging porn.\\nTimeline of Packaging\\n—Ancient China is credited for inventing flexible packaging due to their innovations in developing paper. Back then they used mulberry bark to wrap foods and in later centuries, after perfecting paper-making techniques, paper began to be used for packaging items such as medicine and parcels of tea.\\n—In Ancient Egypt, glass was costly and regarded as a precious stone typically reserved for royalty. This obsession with glass eventually lead Egyptians to discover glass blowing tech of which could mold glass into containers for food and water storage.\\n—The middle ages saw a rise in popularity in using wooden barrels and wood boxes as storage and transportation devices. Barrels were typically used for traveling across oceans to store items such as rum, dried food, and fresh water.\\n—Nicolas Appert, also known as the father of canning, invented a method to preserve food for an extended period of time by boiling then sealing food in airtight glass containers, a method still used to this day!\\n—In 1810, Peter Durand, an Englishman, patented the use of tin-coated iron cans instead of bottles to preserve food. Over the next 20 years, tin would become one of the most popular packaging materials for packaging things like cookies and tobacco.\\n—Though cardboard itself had been invented several hundred years earlier in China, the cardboard box wasn’t created until 1817 by Sir Malcolm Thornhill, these boxes weren’t corrugated yet, that wouldn’t be invented until 1871. Cardboard boxes were popular among silk manufacturers to transport moths and eggs from Japan to Europe.\\n—Several years after the first commercial paper bags were created in 1844, Francis Wolle invented a machine capable of mass-producing paper bags.\\n—Robert Gair, a Brooklyn printer developed the first carton by accident! Gair was the owner of a paper bag company. One day, one of Gair’s machines malfunctioned by slicing through (rather than creasing) a stack of paper bags. It was then that Gair realized that cutting and creasing cartons in one operation could make prefabricated cartons.\\n—The Kellogg brothers, known for the invention of Corn Flake cereal in 1877, began using cardboard to distribute and market their cereal as early as 1906, otherwise known as the first cereal box.\\nAndy Warhol as the OG Snaxboi\\nNone other was able to set the foundations of packaging as external signaling, or as art form than the incomparable Andy Warhol, who’s interest in gifting is what led him to become obsessed with “packaging” in norm settings. Pop art became a movement that used humor and irony to comment on mass production and how consumerism had come to dominate much of American life and culture, unlike prior movements that focused on the creative process, this one tried to eliminate traces of it , like brush strokes—so that artwork emulated an almost mechanical, mass-produced feel. Warhol’s experience working in commercial accounts, working with the likes of Harper’s Bazaar, Dior and Tiffany’s gave him this exact POV.\\n** Fun fact, Lunchables were designed to look like a gift because it was a way to ease moms from feeling guilty for not preparing their kids meals and send them off with pre-made snacks instead**\\nAt first, his exposition of the 32 Campbell soup cans failed to attract interest, instead criticism as most audiences were not familiar with this young art movement in the early 60s, by the way, his appeal to this particular brand came from him growing up on their soups, focusing on a common, everyday product. By the mid 60s however, society was starting to warm up to the idea of pop art, and in 1964, Warhol put on the infamous exhibition, The American Supermarket in collaboration with other artists from the same movement. Held at the Bianchini Gallery in New York, the show was presented as a typical U.S. small supermarket environment, except that everything in it from the produce, canned goods, meat, posters on the wall, etc. were created by six prominent pop artists of the time including the controversial (and like-minded) Billy Apple, Mary Inman, and Robert Watts. It was such a success, that in just 2 years, his paintings each were selling for $1,500 each.\\nWant to chat more snax?Join our Discord.\\nAndy Warhol was the original snaxboi, understanding that pantry items need to pop out at shelves, they want to be seen, allowing for these common products to be considered as art form even as a consumer packaged good. His legacy has led this movement, wherein art, food, lifestyle and fashion intersect. Consider that the London Design Museum created an entire grocery store that featured common grocery items with designs from several artists, the market itself held that very “pop art” 60s look, Pop Up Grocer holds a similar look, creating an experiential environment that feels similar to the 1964 exhibition, not to mention Superette’s incredible supermarket store, that holds cannabis items that are packaged to look like they belong in regular pantry shelves. But perhaps, the ultimate nod to the Warhol genius, comes from Omega Mart, an exhibition in Vegas from Meow Wolf, a parody of an average grocery stores, where you can actually purchase their spoof items.\\nOh to be a pantry item through a looking glass \\nstaring out at your produce waiting to be picked up too.  \\n                                                                 —Andrea Hernández \\nIt’s the Aesthetics, Stupid\\n—CPG packaging spend continues to rise: 56% of CPG brand owners reported an increase in spending on packaging since 2019 and 65% said they anticipate growing their spending in 2022 and 2023.\\n—72% of American consumers say that product packaging design influences their purchasing.\\n—Rebrands are the new launch: 30% of businesses report an increase in revenue after improving product packaging.\\n—Classic snaxboi : 40% of American consumers will post photos on social media (UGC) of products with unique branded packaging.\\n—Perpetual discovery mode: 52% of consumers have changed product brands because of new packaging design.\\n—GenZ and Millennials are spending most of their food budget on groceries accounting for 70% of it.\\n—Both GenZ and Millennials crave a browsing experience and discovery, on average, both generations visit a grocery store three times a week.\\n—Brand loyalty amongst both generations is at an all time low, these generations more prone to trying new than known based on price, convenience and criteria.\\nRebrands are the New Launch\\nNow that we’ve established that looks fucking matter, sorry to those who solely believe beauty lays on the inside, at least not in this industry. Let’s talk about the sudden surge in rebrands, to appeal to modern consumers, fit into pantry kiths, and become coveted items that double as accessories and signalers of cool—rebrands have become the new launch.\\nSo much so that the rebrand cycle has become increasingly short, whereas before, brands would spend time building their brand equity, patent looks, colors, fonts etc, now it has become a brave new bland world, wherein every item is emulating each other, trying to borrow from established clout in what seems a never ending cycle, spoke about this last year on a Vice interview on “Why food brands all about the aesthetics now” —shout out to Bettina Makalintal! Brands are also using it to get perceived novelty, though you can’t fool me baby, I’ve got my ways to uncover whether or not a brand is trying to hide a major facelift to fool consumers into thinking they are brand new, should I share the tip with you—tweet at me if you want to know.\\nLet’s get to the good stuff, let’s explore some examples of brands trying to bland themselves into new found relevance—\\nWant more greedy snaxboi? We curate daily on Instagram.\\nBefore: Mother, farmer’s market vibe After: Poppi, complete fucking body lift\\nBefore: Gen Alpha ripping off Annie’s After: Millennial pastel Mac-n-Cheese\\nBefore: Bodega bottled water vibes After: DTC, copying Lark’s minimalism\\nBefore: Brew, craft mate vibes After: Sexy looking yerba mate\\nBefore: Target fridge vibes After: web3 plant based vibes\\nBefore: Average grocery tea look After: DTC Millennial cozy aesthetics\\nBefore: Minimalist IG wellness After: Pantry thirst trap\\nBefore: Bartender sophistication After: Millennials Instant Gratification\\nBefore: Minimal Paint Can After: Pastel-pop realness\\nBefore: Private Label realness After: Bringing the heat to freezer aisles\\nBefore: Natural lunchbox vibes After: Hottest trade at playground\\nAround the World in Pantry KITHs\\nWe’ve already broken down the definition of “Pantry KITHs” here, we wanted to share some of our favorite concepts from around the world.\\nMonsoon Market based in Phoenix, USA.\\nSupermarket of Dreams based in London, UK.\\nMortadeli based in Victoria, Australia.\\nTandem based in Lyons, France.\\nOracular Spectacular, Double Feature 👁️\\nshhhhhhhhhhhhhhhhhhhh!!!!! our favorite show is about to start, don’t worry, we saved last week’s episode for you to enjoy as well!\\nDr. Sting’s Honey\\nbeaucoup\\nCOMING SOON...\\nPURSUE\\nXUMA\\nDirtbag\\nSaint Chili\\nWant more greedy snaxboi? We curate daily on Instagram.\\nBAWI\\nCentinela\\ndenada\\nFree Style Snacks\\nOrange Crush\\nGood Good Collagen Cookie\\nTrendSpotting, Double Feature\\nSpoonful of News 🥄\\nStarbucks launches a line of energy drinks.\\nOur friends at Pop Up Grocer open TOMORROW in Miami.\\nOur friends at Ruby launched TWO new flavors, may we recommend Ginger Cherry?\\nMisfit Foods rebrands to Phil’s Best and we are fine with it!\\nCoca Cola and Molson Coors launch a spiked lemonade in line with my prediction that seltzer and alcohol have become their saving grace.\\nUnilever and Mars Wrigley doing major labor cuts.\\nSnax Concierge 🛎️\\n🔮 For daily snax curation and memes follow our Twitter and IG.\\n🔮 Want to take this relationship further?! Join our Discord.\\n🔮 Share with your friends and let them know forecasting trends is the new astrology:\\nShare'"
      ]
     },
     "execution_count": 55,
     "metadata": {},
     "output_type": "execute_result"
    }
   ],
   "source": [
    "whole_texts[0]"
   ]
  },
  {
   "cell_type": "markdown",
   "id": "4b2037ac",
   "metadata": {},
   "source": [
    "## Exporting Data Out"
   ]
  },
  {
   "cell_type": "code",
   "execution_count": 58,
   "id": "98f22c28",
   "metadata": {},
   "outputs": [],
   "source": [
    "df = pd.DataFrame(list(zip(titles, subtitles, dates, images, whole_texts)), columns =['title', 'subtitle', 'date', 'images', 'text'])"
   ]
  },
  {
   "cell_type": "code",
   "execution_count": 60,
   "id": "74ec61ac",
   "metadata": {},
   "outputs": [],
   "source": [
    "df.to_csv('full_snax_07-23.csv')"
   ]
  },
  {
   "cell_type": "code",
   "execution_count": null,
   "id": "a8535789",
   "metadata": {},
   "outputs": [],
   "source": []
  }
 ],
 "metadata": {
  "kernelspec": {
   "display_name": "Python 3",
   "language": "python",
   "name": "python3"
  },
  "language_info": {
   "codemirror_mode": {
    "name": "ipython",
    "version": 3
   },
   "file_extension": ".py",
   "mimetype": "text/x-python",
   "name": "python",
   "nbconvert_exporter": "python",
   "pygments_lexer": "ipython3",
   "version": "3.8.8"
  }
 },
 "nbformat": 4,
 "nbformat_minor": 5
}
